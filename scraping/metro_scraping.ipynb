{
 "cells": [
  {
   "cell_type": "code",
   "execution_count": 46,
   "metadata": {},
   "outputs": [],
   "source": [
    "from bs4 import BeautifulSoup\n",
    "import requests\n",
    "import urllib.request\n",
    "import re"
   ]
  },
  {
   "cell_type": "code",
   "execution_count": 44,
   "metadata": {},
   "outputs": [],
   "source": [
    "url = \"https://www.metro.pe/leche-evaporada-gloria-azul-pack-6-unid-x-400-g-59525001/p\"\n",
    "response = requests.get(url) #Establezco la conexión"
   ]
  },
  {
   "cell_type": "code",
   "execution_count": 45,
   "metadata": {},
   "outputs": [],
   "source": [
    "soup = BeautifulSoup(response.text, \"html.parser\")"
   ]
  },
  {
   "cell_type": "code",
   "execution_count": 43,
   "metadata": {},
   "outputs": [
    {
     "data": {
      "text/plain": [
       "'Leche Evaporada Gloria Azul Pack 6 Unid x 400 g'"
      ]
     },
     "execution_count": 43,
     "metadata": {},
     "output_type": "execute_result"
    }
   ],
   "source": [
    "nombre_ = soup.find('div', {'class':'name-mobile mobile'})\n",
    "nombre3 = nombre_.div(string = True) #Se puede hacer referencia al div y sacar el texto en una lista con string = True\n",
    "nombre3[0]"
   ]
  },
  {
   "cell_type": "code",
   "execution_count": 10,
   "metadata": {},
   "outputs": [
    {
     "name": "stdout",
     "output_type": "stream",
     "text": [
      "S/. 19.20\n"
     ]
    }
   ],
   "source": [
    "precio_ = soup.find('div',{'class':'plugin-preco'})\n",
    "precio_2 = precio_.find('strong', {'class':'skuBestPrice'}).text #O Se puede sacar el texto de esta forma\n",
    "print(precio_2)"
   ]
  },
  {
   "cell_type": "markdown",
   "metadata": {},
   "source": [
    "Ahora debemos sacar los links de todos los divs en los que estamos interesados..."
   ]
  },
  {
   "cell_type": "code",
   "execution_count": 24,
   "metadata": {},
   "outputs": [],
   "source": [
    "url2 = \"https://www.metro.pe/lacteos\"\n",
    "response2 = requests.get(url2) #conexion\n",
    "soup2 = BeautifulSoup(response2.text, \"html.parser\") #Haciendo el soup Object\n",
    "div_principal = soup2.find('div', {'class':'main'}) #Busco en la clase main"
   ]
  },
  {
   "cell_type": "code",
   "execution_count": 28,
   "metadata": {},
   "outputs": [
    {
     "name": "stdout",
     "output_type": "stream",
     "text": [
      "https://www.metro.pe/leche-evaporada-gloria-azul-pack-6-unid-x-400-g-59525001/p\n",
      "https://www.metro.pe/mezcla-lactea-bonle-0-lactosa-tetrapack-sixpack-500-g-c-u-718302/p\n",
      "https://www.metro.pe/mezcla-lactea-familiar-bonle-tetrapack-sixpack-500-g-c-u-712171/p\n",
      "https://www.metro.pe/queso-edam-metro-x-kg-14119/p\n",
      "https://www.metro.pe/leche-entera-uht-gloria-tripack-1-litro-c-u-100482/p\n",
      "https://www.metro.pe/bebida-chocolatada-la-preferida-bolsa-800-ml-51288002/p\n",
      "https://www.metro.pe/leche-entera-uht-laive-bolsa-900-ml-24322/p\n",
      "https://www.metro.pe/leche-evaporada-gloria-light-pack-6-unid-x-410-g-59525002/p\n",
      "https://www.metro.pe/mezcla-lactea-laive-entera-6-unid-x-500-g-438307/p\n",
      "https://www.metro.pe/leche-evaporada-gloria-sin-lactosa-pack-6-unid-x-400-g-344287/p\n",
      "https://www.metro.pe/leche-evaporada-gloria-ninos-de-1-a-5-anos-pack-6-unid-x-400-g-77787/p\n",
      "https://www.metro.pe/yogurt-bebible-gloria-vainilla-francesa-galonera-2-kg-110363003/p\n",
      "https://www.metro.pe/yogurt-bebible-gloria-fresa-galonera-2-kg-110363002/p\n",
      "https://www.metro.pe/mantequilla-gloria-con-sal-pote-400-g-343592/p\n",
      "https://www.metro.pe/mantequilla-gloria-con-sal-barra-200-g-42081/p\n",
      "https://www.metro.pe/quedo-edam-braedt-en-tajadas-paquete-200-g-752207/p\n",
      "https://www.metro.pe/leche-uht-light-semidescremada-monteagle-caja-1-litro-709327/p\n",
      "https://www.metro.pe/milo-activ-go-listo-para-tomar-pack-de-6-unidades-de-165-ml-c-u-712451/p\n"
     ]
    }
   ],
   "source": [
    "#Según el tutorial en stackoverflow\n",
    "#Lo meteremos a una lista\n",
    "links_leche = []\n",
    "for div in div_principal.find_all(\"div\", {\"class\":\"product-item__info\"}): #Encuentra todas las clases de info de producto\n",
    "    for link in div.select(\"a.product-item__name\"): #Seleccioname los links\n",
    "        print(link['href'])\n",
    "        links_leche.append(link['href'])"
   ]
  },
  {
   "cell_type": "code",
   "execution_count": 29,
   "metadata": {},
   "outputs": [
    {
     "data": {
      "text/plain": [
       "['https://www.metro.pe/leche-evaporada-gloria-azul-pack-6-unid-x-400-g-59525001/p',\n",
       " 'https://www.metro.pe/mezcla-lactea-bonle-0-lactosa-tetrapack-sixpack-500-g-c-u-718302/p',\n",
       " 'https://www.metro.pe/mezcla-lactea-familiar-bonle-tetrapack-sixpack-500-g-c-u-712171/p',\n",
       " 'https://www.metro.pe/queso-edam-metro-x-kg-14119/p',\n",
       " 'https://www.metro.pe/leche-entera-uht-gloria-tripack-1-litro-c-u-100482/p',\n",
       " 'https://www.metro.pe/bebida-chocolatada-la-preferida-bolsa-800-ml-51288002/p',\n",
       " 'https://www.metro.pe/leche-entera-uht-laive-bolsa-900-ml-24322/p',\n",
       " 'https://www.metro.pe/leche-evaporada-gloria-light-pack-6-unid-x-410-g-59525002/p',\n",
       " 'https://www.metro.pe/mezcla-lactea-laive-entera-6-unid-x-500-g-438307/p',\n",
       " 'https://www.metro.pe/leche-evaporada-gloria-sin-lactosa-pack-6-unid-x-400-g-344287/p',\n",
       " 'https://www.metro.pe/leche-evaporada-gloria-ninos-de-1-a-5-anos-pack-6-unid-x-400-g-77787/p',\n",
       " 'https://www.metro.pe/yogurt-bebible-gloria-vainilla-francesa-galonera-2-kg-110363003/p',\n",
       " 'https://www.metro.pe/yogurt-bebible-gloria-fresa-galonera-2-kg-110363002/p',\n",
       " 'https://www.metro.pe/mantequilla-gloria-con-sal-pote-400-g-343592/p',\n",
       " 'https://www.metro.pe/mantequilla-gloria-con-sal-barra-200-g-42081/p',\n",
       " 'https://www.metro.pe/quedo-edam-braedt-en-tajadas-paquete-200-g-752207/p',\n",
       " 'https://www.metro.pe/leche-uht-light-semidescremada-monteagle-caja-1-litro-709327/p',\n",
       " 'https://www.metro.pe/milo-activ-go-listo-para-tomar-pack-de-6-unidades-de-165-ml-c-u-712451/p']"
      ]
     },
     "execution_count": 29,
     "metadata": {},
     "output_type": "execute_result"
    }
   ],
   "source": [
    "links_leche"
   ]
  },
  {
   "cell_type": "code",
   "execution_count": 36,
   "metadata": {},
   "outputs": [],
   "source": [
    "def scrapeando_ando(url):\n",
    "    response = requests.get(url)\n",
    "    soup = BeautifulSoup(response.text, \"html.parser\")\n",
    "    nombre_ = soup.find('div', {'class': 'name-mobile mobile'})\n",
    "    nombre3 = nombre_.div(string=True)\n",
    "    precio_ = soup.find('div', {'class':'plugin-preco'})\n",
    "    precio_2 = precio_.find('strong', {'class':'skuBestPrice'}).text\n",
    "    return nombre3[0], precio_2"
   ]
  },
  {
   "cell_type": "code",
   "execution_count": 37,
   "metadata": {},
   "outputs": [
    {
     "name": "stdout",
     "output_type": "stream",
     "text": [
      "['Leche Evaporada Gloria Azul Pack 6 Unid x 400 g'] S/. 19.20\n",
      "['Mezcla Láctea Bonlé 0 Lactosa Tetrapack Sixpack 500 g c/u'] S/. 18.00\n",
      "['Mezcla Lactea Familiar Bonlé TetraPack Sixpack 500 g c/u'] S/. 16.80\n",
      "['Queso Edam Metro x kg'] S/. 32.90\n",
      "['Leche Entera UHT Gloria Tripack 1 Litro c/u'] S/. 12.90\n",
      "['Bebida Chocolatada La Preferida Bolsa 800 ml'] S/. 1.99\n",
      "['Leche Entera UHT Laive Bolsa 900 ml'] S/. 3.45\n",
      "['Leche Evaporada Gloria Light Pack 6 Unid x 400 g'] S/. 21.60\n",
      "['Mezcla Láctea Laive Entera 6 Unid x 500 g'] S/. 13.99\n",
      "['Leche Evaporada Gloria sin Lactosa Pack 6 Unid x 400 g'] S/. 18.99\n",
      "['Leche Evaporada Gloria Niños de 1 a 5 años Pack 6 Unid x 400 g'] S/. 21.55\n",
      "['Yogurt Bebible Gloria Vainilla Francesa Galonera 2 Kg'] S/. 9.79\n",
      "['Yogurt Bebible Gloria Fresa Galonera 2 Kg'] S/. 9.79\n",
      "['Mantequilla Gloria Con Sal Pote 400 g'] S/. 11.99\n",
      "['Mantequilla Gloria Con Sal Barra 200 g'] S/. 6.99\n",
      "['Queso Edam Braedt en Tajadas Paquete 200 g'] S/. 8.29\n",
      "['Leche UHT Light Semidescremada Monteagle Caja 1 Litro'] S/. 3.40\n",
      "['Milo Activ-Go Listo Para Tomar Pack de 6 Unidades de 165 ml c/u'] S/. 8.90\n"
     ]
    }
   ],
   "source": [
    "for links in links_leche:\n",
    "    scrapeando_ando(links)"
   ]
  },
  {
   "cell_type": "code",
   "execution_count": null,
   "metadata": {},
   "outputs": [],
   "source": []
  },
  {
   "cell_type": "code",
   "execution_count": null,
   "metadata": {},
   "outputs": [],
   "source": []
  },
  {
   "cell_type": "code",
   "execution_count": null,
   "metadata": {},
   "outputs": [],
   "source": []
  },
  {
   "cell_type": "code",
   "execution_count": null,
   "metadata": {},
   "outputs": [],
   "source": []
  },
  {
   "cell_type": "markdown",
   "metadata": {},
   "source": [
    "Formalizaremos la función del paso 1 una vez verificada que la mayoría de sub-divs tienen la misma estructura:"
   ]
  },
  {
   "cell_type": "code",
   "execution_count": null,
   "metadata": {},
   "outputs": [],
   "source": []
  },
  {
   "cell_type": "code",
   "execution_count": null,
   "metadata": {},
   "outputs": [],
   "source": []
  },
  {
   "cell_type": "code",
   "execution_count": null,
   "metadata": {},
   "outputs": [],
   "source": []
  },
  {
   "cell_type": "code",
   "execution_count": null,
   "metadata": {},
   "outputs": [],
   "source": []
  },
  {
   "cell_type": "code",
   "execution_count": null,
   "metadata": {},
   "outputs": [],
   "source": []
  },
  {
   "cell_type": "markdown",
   "metadata": {},
   "source": [
    "Entraremos a cada link y aplicaremos la función:"
   ]
  },
  {
   "cell_type": "code",
   "execution_count": null,
   "metadata": {},
   "outputs": [],
   "source": []
  },
  {
   "cell_type": "code",
   "execution_count": null,
   "metadata": {},
   "outputs": [],
   "source": []
  },
  {
   "cell_type": "code",
   "execution_count": null,
   "metadata": {},
   "outputs": [],
   "source": []
  },
  {
   "cell_type": "code",
   "execution_count": null,
   "metadata": {},
   "outputs": [],
   "source": []
  },
  {
   "cell_type": "markdown",
   "metadata": {},
   "source": [
    "Transformaremos la data a un DataFrame, CSV, excel o a la mejor forma de poder meterlo a MySQL."
   ]
  },
  {
   "cell_type": "code",
   "execution_count": null,
   "metadata": {},
   "outputs": [],
   "source": []
  }
 ],
 "metadata": {
  "kernelspec": {
   "display_name": "Python 3",
   "language": "python",
   "name": "python3"
  },
  "language_info": {
   "codemirror_mode": {
    "name": "ipython",
    "version": 3
   },
   "file_extension": ".py",
   "mimetype": "text/x-python",
   "name": "python",
   "nbconvert_exporter": "python",
   "pygments_lexer": "ipython3",
   "version": "3.7.1"
  }
 },
 "nbformat": 4,
 "nbformat_minor": 2
}
