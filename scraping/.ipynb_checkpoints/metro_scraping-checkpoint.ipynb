{
 "cells": [
  {
   "cell_type": "code",
   "execution_count": 2,
   "metadata": {},
   "outputs": [],
   "source": [
    "from bs4 import BeautifulSoup\n",
    "import requests\n",
    "import urllib.request\n",
    "import re"
   ]
  },
  {
   "cell_type": "code",
   "execution_count": 3,
   "metadata": {},
   "outputs": [],
   "source": [
    "url = \"https://www.metro.pe/leche-evaporada-gloria-azul-pack-6-unid-x-400-g-59525001/p\"\n",
    "response = requests.get(url) #Establezco la conexión"
   ]
  },
  {
   "cell_type": "code",
   "execution_count": 4,
   "metadata": {},
   "outputs": [],
   "source": [
    "soup = BeautifulSoup(response.text, \"html.parser\")"
   ]
  },
  {
   "cell_type": "code",
   "execution_count": 5,
   "metadata": {},
   "outputs": [
    {
     "data": {
      "text/plain": [
       "'Leche Evaporada Gloria Azul Pack 6 Unid x 400 g'"
      ]
     },
     "execution_count": 5,
     "metadata": {},
     "output_type": "execute_result"
    }
   ],
   "source": [
    "nombre_ = soup.find('div', {'class':'name-mobile mobile'})\n",
    "nombre3 = nombre_.div(string = True) #Se puede hacer referencia al div y sacar el texto en una lista con string = True\n",
    "nombre3[0]"
   ]
  },
  {
   "cell_type": "code",
   "execution_count": 6,
   "metadata": {},
   "outputs": [
    {
     "name": "stdout",
     "output_type": "stream",
     "text": [
      "S/. 19.20\n"
     ]
    }
   ],
   "source": [
    "precio_ = soup.find('div',{'class':'plugin-preco'})\n",
    "precio_2 = precio_.find('strong', {'class':'skuBestPrice'}).text #O Se puede sacar el texto de esta forma\n",
    "print(precio_2)"
   ]
  },
  {
   "cell_type": "markdown",
   "metadata": {},
   "source": [
    "Ahora debemos sacar los links de todos los divs en los que estamos interesados..."
   ]
  },
  {
   "cell_type": "code",
   "execution_count": 7,
   "metadata": {},
   "outputs": [],
   "source": [
    "url2 = \"https://www.metro.pe/lacteos\"\n",
    "response2 = requests.get(url2) #conexion\n",
    "soup2 = BeautifulSoup(response2.text, \"html.parser\") #Haciendo el soup Object\n",
    "div_principal = soup2.find('div', {'class':'main'}) #Busco en la clase main"
   ]
  },
  {
   "cell_type": "code",
   "execution_count": 8,
   "metadata": {},
   "outputs": [
    {
     "name": "stdout",
     "output_type": "stream",
     "text": [
      "https://www.metro.pe/leche-evaporada-gloria-azul-pack-6-unid-x-400-g-59525001/p\n",
      "https://www.metro.pe/mezcla-lactea-bonle-0-lactosa-tetrapack-sixpack-500-g-c-u-718302/p\n",
      "https://www.metro.pe/mezcla-lactea-familiar-bonle-tetrapack-sixpack-500-g-c-u-712171/p\n",
      "https://www.metro.pe/queso-edam-metro-x-kg-14119/p\n",
      "https://www.metro.pe/leche-entera-uht-gloria-tripack-1-litro-c-u-100482/p\n",
      "https://www.metro.pe/bebida-chocolatada-la-preferida-bolsa-800-ml-51288002/p\n",
      "https://www.metro.pe/leche-entera-uht-laive-bolsa-900-ml-24322/p\n",
      "https://www.metro.pe/leche-evaporada-gloria-light-pack-6-unid-x-410-g-59525002/p\n",
      "https://www.metro.pe/mezcla-lactea-laive-entera-6-unid-x-500-g-438307/p\n",
      "https://www.metro.pe/leche-evaporada-gloria-sin-lactosa-pack-6-unid-x-400-g-344287/p\n",
      "https://www.metro.pe/leche-evaporada-gloria-ninos-de-1-a-5-anos-pack-6-unid-x-400-g-77787/p\n",
      "https://www.metro.pe/yogurt-bebible-gloria-vainilla-francesa-galonera-2-kg-110363003/p\n",
      "https://www.metro.pe/yogurt-bebible-gloria-fresa-galonera-2-kg-110363002/p\n",
      "https://www.metro.pe/mantequilla-gloria-con-sal-pote-400-g-343592/p\n",
      "https://www.metro.pe/mantequilla-gloria-con-sal-barra-200-g-42081/p\n",
      "https://www.metro.pe/queso-parmesano-rallado-laive-sobre-35-g-3517/p\n",
      "https://www.metro.pe/quedo-edam-braedt-en-tajadas-paquete-200-g-752207/p\n",
      "https://www.metro.pe/leche-uht-light-semidescremada-monteagle-caja-1-litro-709327/p\n"
     ]
    }
   ],
   "source": [
    "#Según el tutorial en stackoverflow\n",
    "#Lo meteremos a una lista\n",
    "links_leche = []\n",
    "for div in div_principal.find_all(\"div\", {\"class\":\"product-item__info\"}): #Encuentra todas las clases de info de producto\n",
    "    for link in div.select(\"a.product-item__name\"): #Seleccioname los links\n",
    "        print(link['href'])\n",
    "        links_leche.append(link['href'])"
   ]
  },
  {
   "cell_type": "code",
   "execution_count": 9,
   "metadata": {},
   "outputs": [
    {
     "data": {
      "text/plain": [
       "['https://www.metro.pe/leche-evaporada-gloria-azul-pack-6-unid-x-400-g-59525001/p',\n",
       " 'https://www.metro.pe/mezcla-lactea-bonle-0-lactosa-tetrapack-sixpack-500-g-c-u-718302/p',\n",
       " 'https://www.metro.pe/mezcla-lactea-familiar-bonle-tetrapack-sixpack-500-g-c-u-712171/p',\n",
       " 'https://www.metro.pe/queso-edam-metro-x-kg-14119/p',\n",
       " 'https://www.metro.pe/leche-entera-uht-gloria-tripack-1-litro-c-u-100482/p',\n",
       " 'https://www.metro.pe/bebida-chocolatada-la-preferida-bolsa-800-ml-51288002/p',\n",
       " 'https://www.metro.pe/leche-entera-uht-laive-bolsa-900-ml-24322/p',\n",
       " 'https://www.metro.pe/leche-evaporada-gloria-light-pack-6-unid-x-410-g-59525002/p',\n",
       " 'https://www.metro.pe/mezcla-lactea-laive-entera-6-unid-x-500-g-438307/p',\n",
       " 'https://www.metro.pe/leche-evaporada-gloria-sin-lactosa-pack-6-unid-x-400-g-344287/p',\n",
       " 'https://www.metro.pe/leche-evaporada-gloria-ninos-de-1-a-5-anos-pack-6-unid-x-400-g-77787/p',\n",
       " 'https://www.metro.pe/yogurt-bebible-gloria-vainilla-francesa-galonera-2-kg-110363003/p',\n",
       " 'https://www.metro.pe/yogurt-bebible-gloria-fresa-galonera-2-kg-110363002/p',\n",
       " 'https://www.metro.pe/mantequilla-gloria-con-sal-pote-400-g-343592/p',\n",
       " 'https://www.metro.pe/mantequilla-gloria-con-sal-barra-200-g-42081/p',\n",
       " 'https://www.metro.pe/queso-parmesano-rallado-laive-sobre-35-g-3517/p',\n",
       " 'https://www.metro.pe/quedo-edam-braedt-en-tajadas-paquete-200-g-752207/p',\n",
       " 'https://www.metro.pe/leche-uht-light-semidescremada-monteagle-caja-1-litro-709327/p']"
      ]
     },
     "execution_count": 9,
     "metadata": {},
     "output_type": "execute_result"
    }
   ],
   "source": [
    "links_leche"
   ]
  },
  {
   "cell_type": "code",
   "execution_count": 10,
   "metadata": {},
   "outputs": [],
   "source": [
    "def scrapeando_ando(url):\n",
    "    response = requests.get(url)\n",
    "    soup = BeautifulSoup(response.text, \"html.parser\")\n",
    "    nombre_ = soup.find('div', {'class': 'name-mobile mobile'})\n",
    "    nombre3 = nombre_.div(string=True)\n",
    "    precio_ = soup.find('div', {'class':'plugin-preco'})\n",
    "    precio_2 = precio_.find('strong', {'class':'skuBestPrice'}).text\n",
    "    return nombre3[0], precio_2"
   ]
  },
  {
   "cell_type": "code",
   "execution_count": 11,
   "metadata": {},
   "outputs": [
    {
     "ename": "KeyboardInterrupt",
     "evalue": "",
     "output_type": "error",
     "traceback": [
      "\u001b[1;31m---------------------------------------------------------------------------\u001b[0m",
      "\u001b[1;31mKeyboardInterrupt\u001b[0m                         Traceback (most recent call last)",
      "\u001b[1;32m<ipython-input-11-fef577c368b2>\u001b[0m in \u001b[0;36m<module>\u001b[1;34m\u001b[0m\n\u001b[0;32m      1\u001b[0m \u001b[1;32mfor\u001b[0m \u001b[0mlinks\u001b[0m \u001b[1;32min\u001b[0m \u001b[0mlinks_leche\u001b[0m\u001b[1;33m:\u001b[0m\u001b[1;33m\u001b[0m\u001b[1;33m\u001b[0m\u001b[0m\n\u001b[1;32m----> 2\u001b[1;33m     \u001b[0mscrapeando_ando\u001b[0m\u001b[1;33m(\u001b[0m\u001b[0mlinks\u001b[0m\u001b[1;33m)\u001b[0m\u001b[1;33m\u001b[0m\u001b[1;33m\u001b[0m\u001b[0m\n\u001b[0m",
      "\u001b[1;32m<ipython-input-10-ccecbd1cb89e>\u001b[0m in \u001b[0;36mscrapeando_ando\u001b[1;34m(url)\u001b[0m\n\u001b[0;32m      4\u001b[0m     \u001b[0mnombre_\u001b[0m \u001b[1;33m=\u001b[0m \u001b[0msoup\u001b[0m\u001b[1;33m.\u001b[0m\u001b[0mfind\u001b[0m\u001b[1;33m(\u001b[0m\u001b[1;34m'div'\u001b[0m\u001b[1;33m,\u001b[0m \u001b[1;33m{\u001b[0m\u001b[1;34m'class'\u001b[0m\u001b[1;33m:\u001b[0m \u001b[1;34m'name-mobile mobile'\u001b[0m\u001b[1;33m}\u001b[0m\u001b[1;33m)\u001b[0m\u001b[1;33m\u001b[0m\u001b[1;33m\u001b[0m\u001b[0m\n\u001b[0;32m      5\u001b[0m     \u001b[0mnombre3\u001b[0m \u001b[1;33m=\u001b[0m \u001b[0mnombre_\u001b[0m\u001b[1;33m.\u001b[0m\u001b[0mdiv\u001b[0m\u001b[1;33m(\u001b[0m\u001b[0mstring\u001b[0m\u001b[1;33m=\u001b[0m\u001b[1;32mTrue\u001b[0m\u001b[1;33m)\u001b[0m\u001b[1;33m\u001b[0m\u001b[1;33m\u001b[0m\u001b[0m\n\u001b[1;32m----> 6\u001b[1;33m     \u001b[0mprecio_\u001b[0m \u001b[1;33m=\u001b[0m \u001b[0msoup\u001b[0m\u001b[1;33m.\u001b[0m\u001b[0mfind\u001b[0m\u001b[1;33m(\u001b[0m\u001b[1;34m'div'\u001b[0m\u001b[1;33m,\u001b[0m \u001b[1;33m{\u001b[0m\u001b[1;34m'class'\u001b[0m\u001b[1;33m:\u001b[0m\u001b[1;34m'plugin-preco'\u001b[0m\u001b[1;33m}\u001b[0m\u001b[1;33m)\u001b[0m\u001b[1;33m\u001b[0m\u001b[1;33m\u001b[0m\u001b[0m\n\u001b[0m\u001b[0;32m      7\u001b[0m     \u001b[0mprecio_2\u001b[0m \u001b[1;33m=\u001b[0m \u001b[0mprecio_\u001b[0m\u001b[1;33m.\u001b[0m\u001b[0mfind\u001b[0m\u001b[1;33m(\u001b[0m\u001b[1;34m'strong'\u001b[0m\u001b[1;33m,\u001b[0m \u001b[1;33m{\u001b[0m\u001b[1;34m'class'\u001b[0m\u001b[1;33m:\u001b[0m\u001b[1;34m'skuBestPrice'\u001b[0m\u001b[1;33m}\u001b[0m\u001b[1;33m)\u001b[0m\u001b[1;33m.\u001b[0m\u001b[0mtext\u001b[0m\u001b[1;33m\u001b[0m\u001b[1;33m\u001b[0m\u001b[0m\n\u001b[0;32m      8\u001b[0m     \u001b[1;32mreturn\u001b[0m \u001b[0mnombre3\u001b[0m\u001b[1;33m[\u001b[0m\u001b[1;36m0\u001b[0m\u001b[1;33m]\u001b[0m\u001b[1;33m,\u001b[0m \u001b[0mprecio_2\u001b[0m\u001b[1;33m\u001b[0m\u001b[1;33m\u001b[0m\u001b[0m\n",
      "\u001b[1;32m~\\Anaconda3\\lib\\site-packages\\bs4\\element.py\u001b[0m in \u001b[0;36mfind\u001b[1;34m(self, name, attrs, recursive, text, **kwargs)\u001b[0m\n\u001b[0;32m   1353\u001b[0m         criteria.\"\"\"\n\u001b[0;32m   1354\u001b[0m         \u001b[0mr\u001b[0m \u001b[1;33m=\u001b[0m \u001b[1;32mNone\u001b[0m\u001b[1;33m\u001b[0m\u001b[1;33m\u001b[0m\u001b[0m\n\u001b[1;32m-> 1355\u001b[1;33m         \u001b[0ml\u001b[0m \u001b[1;33m=\u001b[0m \u001b[0mself\u001b[0m\u001b[1;33m.\u001b[0m\u001b[0mfind_all\u001b[0m\u001b[1;33m(\u001b[0m\u001b[0mname\u001b[0m\u001b[1;33m,\u001b[0m \u001b[0mattrs\u001b[0m\u001b[1;33m,\u001b[0m \u001b[0mrecursive\u001b[0m\u001b[1;33m,\u001b[0m \u001b[0mtext\u001b[0m\u001b[1;33m,\u001b[0m \u001b[1;36m1\u001b[0m\u001b[1;33m,\u001b[0m \u001b[1;33m**\u001b[0m\u001b[0mkwargs\u001b[0m\u001b[1;33m)\u001b[0m\u001b[1;33m\u001b[0m\u001b[1;33m\u001b[0m\u001b[0m\n\u001b[0m\u001b[0;32m   1356\u001b[0m         \u001b[1;32mif\u001b[0m \u001b[0ml\u001b[0m\u001b[1;33m:\u001b[0m\u001b[1;33m\u001b[0m\u001b[1;33m\u001b[0m\u001b[0m\n\u001b[0;32m   1357\u001b[0m             \u001b[0mr\u001b[0m \u001b[1;33m=\u001b[0m \u001b[0ml\u001b[0m\u001b[1;33m[\u001b[0m\u001b[1;36m0\u001b[0m\u001b[1;33m]\u001b[0m\u001b[1;33m\u001b[0m\u001b[1;33m\u001b[0m\u001b[0m\n",
      "\u001b[1;32m~\\Anaconda3\\lib\\site-packages\\bs4\\element.py\u001b[0m in \u001b[0;36mfind_all\u001b[1;34m(self, name, attrs, recursive, text, limit, **kwargs)\u001b[0m\n\u001b[0;32m   1374\u001b[0m         \u001b[1;32mif\u001b[0m \u001b[1;32mnot\u001b[0m \u001b[0mrecursive\u001b[0m\u001b[1;33m:\u001b[0m\u001b[1;33m\u001b[0m\u001b[1;33m\u001b[0m\u001b[0m\n\u001b[0;32m   1375\u001b[0m             \u001b[0mgenerator\u001b[0m \u001b[1;33m=\u001b[0m \u001b[0mself\u001b[0m\u001b[1;33m.\u001b[0m\u001b[0mchildren\u001b[0m\u001b[1;33m\u001b[0m\u001b[1;33m\u001b[0m\u001b[0m\n\u001b[1;32m-> 1376\u001b[1;33m         \u001b[1;32mreturn\u001b[0m \u001b[0mself\u001b[0m\u001b[1;33m.\u001b[0m\u001b[0m_find_all\u001b[0m\u001b[1;33m(\u001b[0m\u001b[0mname\u001b[0m\u001b[1;33m,\u001b[0m \u001b[0mattrs\u001b[0m\u001b[1;33m,\u001b[0m \u001b[0mtext\u001b[0m\u001b[1;33m,\u001b[0m \u001b[0mlimit\u001b[0m\u001b[1;33m,\u001b[0m \u001b[0mgenerator\u001b[0m\u001b[1;33m,\u001b[0m \u001b[1;33m**\u001b[0m\u001b[0mkwargs\u001b[0m\u001b[1;33m)\u001b[0m\u001b[1;33m\u001b[0m\u001b[1;33m\u001b[0m\u001b[0m\n\u001b[0m\u001b[0;32m   1377\u001b[0m     \u001b[0mfindAll\u001b[0m \u001b[1;33m=\u001b[0m \u001b[0mfind_all\u001b[0m       \u001b[1;31m# BS3\u001b[0m\u001b[1;33m\u001b[0m\u001b[1;33m\u001b[0m\u001b[0m\n\u001b[0;32m   1378\u001b[0m     \u001b[0mfindChildren\u001b[0m \u001b[1;33m=\u001b[0m \u001b[0mfind_all\u001b[0m  \u001b[1;31m# BS2\u001b[0m\u001b[1;33m\u001b[0m\u001b[1;33m\u001b[0m\u001b[0m\n",
      "\u001b[1;32m~\\Anaconda3\\lib\\site-packages\\bs4\\element.py\u001b[0m in \u001b[0;36m_find_all\u001b[1;34m(self, name, attrs, text, limit, generator, **kwargs)\u001b[0m\n\u001b[0;32m    614\u001b[0m                 \u001b[1;32mbreak\u001b[0m\u001b[1;33m\u001b[0m\u001b[1;33m\u001b[0m\u001b[0m\n\u001b[0;32m    615\u001b[0m             \u001b[1;32mif\u001b[0m \u001b[0mi\u001b[0m\u001b[1;33m:\u001b[0m\u001b[1;33m\u001b[0m\u001b[1;33m\u001b[0m\u001b[0m\n\u001b[1;32m--> 616\u001b[1;33m                 \u001b[0mfound\u001b[0m \u001b[1;33m=\u001b[0m \u001b[0mstrainer\u001b[0m\u001b[1;33m.\u001b[0m\u001b[0msearch\u001b[0m\u001b[1;33m(\u001b[0m\u001b[0mi\u001b[0m\u001b[1;33m)\u001b[0m\u001b[1;33m\u001b[0m\u001b[1;33m\u001b[0m\u001b[0m\n\u001b[0m\u001b[0;32m    617\u001b[0m                 \u001b[1;32mif\u001b[0m \u001b[0mfound\u001b[0m\u001b[1;33m:\u001b[0m\u001b[1;33m\u001b[0m\u001b[1;33m\u001b[0m\u001b[0m\n\u001b[0;32m    618\u001b[0m                     \u001b[0mresults\u001b[0m\u001b[1;33m.\u001b[0m\u001b[0mappend\u001b[0m\u001b[1;33m(\u001b[0m\u001b[0mfound\u001b[0m\u001b[1;33m)\u001b[0m\u001b[1;33m\u001b[0m\u001b[1;33m\u001b[0m\u001b[0m\n",
      "\u001b[1;32m~\\Anaconda3\\lib\\site-packages\\bs4\\element.py\u001b[0m in \u001b[0;36msearch\u001b[1;34m(self, markup)\u001b[0m\n\u001b[0;32m   1779\u001b[0m         \u001b[1;32melif\u001b[0m \u001b[0misinstance\u001b[0m\u001b[1;33m(\u001b[0m\u001b[0mmarkup\u001b[0m\u001b[1;33m,\u001b[0m \u001b[0mTag\u001b[0m\u001b[1;33m)\u001b[0m\u001b[1;33m:\u001b[0m\u001b[1;33m\u001b[0m\u001b[1;33m\u001b[0m\u001b[0m\n\u001b[0;32m   1780\u001b[0m             \u001b[1;32mif\u001b[0m \u001b[1;32mnot\u001b[0m \u001b[0mself\u001b[0m\u001b[1;33m.\u001b[0m\u001b[0mtext\u001b[0m \u001b[1;32mor\u001b[0m \u001b[0mself\u001b[0m\u001b[1;33m.\u001b[0m\u001b[0mname\u001b[0m \u001b[1;32mor\u001b[0m \u001b[0mself\u001b[0m\u001b[1;33m.\u001b[0m\u001b[0mattrs\u001b[0m\u001b[1;33m:\u001b[0m\u001b[1;33m\u001b[0m\u001b[1;33m\u001b[0m\u001b[0m\n\u001b[1;32m-> 1781\u001b[1;33m                 \u001b[0mfound\u001b[0m \u001b[1;33m=\u001b[0m \u001b[0mself\u001b[0m\u001b[1;33m.\u001b[0m\u001b[0msearch_tag\u001b[0m\u001b[1;33m(\u001b[0m\u001b[0mmarkup\u001b[0m\u001b[1;33m)\u001b[0m\u001b[1;33m\u001b[0m\u001b[1;33m\u001b[0m\u001b[0m\n\u001b[0m\u001b[0;32m   1782\u001b[0m         \u001b[1;31m# If it's text, make sure the text matches.\u001b[0m\u001b[1;33m\u001b[0m\u001b[1;33m\u001b[0m\u001b[1;33m\u001b[0m\u001b[0m\n\u001b[0;32m   1783\u001b[0m         \u001b[1;32melif\u001b[0m \u001b[0misinstance\u001b[0m\u001b[1;33m(\u001b[0m\u001b[0mmarkup\u001b[0m\u001b[1;33m,\u001b[0m \u001b[0mNavigableString\u001b[0m\u001b[1;33m)\u001b[0m \u001b[1;32mor\u001b[0m\u001b[0;31m \u001b[0m\u001b[0;31m\\\u001b[0m\u001b[1;33m\u001b[0m\u001b[1;33m\u001b[0m\u001b[0m\n",
      "\u001b[1;32m~\\Anaconda3\\lib\\site-packages\\bs4\\element.py\u001b[0m in \u001b[0;36msearch_tag\u001b[1;34m(self, markup_name, markup_attrs)\u001b[0m\n\u001b[0;32m   1735\u001b[0m         if ((not self.name)\n\u001b[0;32m   1736\u001b[0m             \u001b[1;32mor\u001b[0m \u001b[0mcall_function_with_tag_data\u001b[0m\u001b[1;33m\u001b[0m\u001b[1;33m\u001b[0m\u001b[0m\n\u001b[1;32m-> 1737\u001b[1;33m             \u001b[1;32mor\u001b[0m \u001b[1;33m(\u001b[0m\u001b[0mmarkup\u001b[0m \u001b[1;32mand\u001b[0m \u001b[0mself\u001b[0m\u001b[1;33m.\u001b[0m\u001b[0m_matches\u001b[0m\u001b[1;33m(\u001b[0m\u001b[0mmarkup\u001b[0m\u001b[1;33m,\u001b[0m \u001b[0mself\u001b[0m\u001b[1;33m.\u001b[0m\u001b[0mname\u001b[0m\u001b[1;33m)\u001b[0m\u001b[1;33m)\u001b[0m\u001b[1;33m\u001b[0m\u001b[1;33m\u001b[0m\u001b[0m\n\u001b[0m\u001b[0;32m   1738\u001b[0m             or (not markup and self._matches(markup_name, self.name))):\n\u001b[0;32m   1739\u001b[0m             \u001b[1;32mif\u001b[0m \u001b[0mcall_function_with_tag_data\u001b[0m\u001b[1;33m:\u001b[0m\u001b[1;33m\u001b[0m\u001b[1;33m\u001b[0m\u001b[0m\n",
      "\u001b[1;32m~\\Anaconda3\\lib\\site-packages\\bs4\\element.py\u001b[0m in \u001b[0;36m_matches\u001b[1;34m(self, markup, match_against, already_tried)\u001b[0m\n\u001b[0;32m   1793\u001b[0m         \u001b[1;31m# print u\"Matching %s against %s\" % (markup, match_against)\u001b[0m\u001b[1;33m\u001b[0m\u001b[1;33m\u001b[0m\u001b[1;33m\u001b[0m\u001b[0m\n\u001b[0;32m   1794\u001b[0m         \u001b[0mresult\u001b[0m \u001b[1;33m=\u001b[0m \u001b[1;32mFalse\u001b[0m\u001b[1;33m\u001b[0m\u001b[1;33m\u001b[0m\u001b[0m\n\u001b[1;32m-> 1795\u001b[1;33m         \u001b[1;32mif\u001b[0m \u001b[0misinstance\u001b[0m\u001b[1;33m(\u001b[0m\u001b[0mmarkup\u001b[0m\u001b[1;33m,\u001b[0m \u001b[0mlist\u001b[0m\u001b[1;33m)\u001b[0m \u001b[1;32mor\u001b[0m \u001b[0misinstance\u001b[0m\u001b[1;33m(\u001b[0m\u001b[0mmarkup\u001b[0m\u001b[1;33m,\u001b[0m \u001b[0mtuple\u001b[0m\u001b[1;33m)\u001b[0m\u001b[1;33m:\u001b[0m\u001b[1;33m\u001b[0m\u001b[1;33m\u001b[0m\u001b[0m\n\u001b[0m\u001b[0;32m   1796\u001b[0m             \u001b[1;31m# This should only happen when searching a multi-valued attribute\u001b[0m\u001b[1;33m\u001b[0m\u001b[1;33m\u001b[0m\u001b[1;33m\u001b[0m\u001b[0m\n\u001b[0;32m   1797\u001b[0m             \u001b[1;31m# like 'class'.\u001b[0m\u001b[1;33m\u001b[0m\u001b[1;33m\u001b[0m\u001b[1;33m\u001b[0m\u001b[0m\n",
      "\u001b[1;31mKeyboardInterrupt\u001b[0m: "
     ]
    }
   ],
   "source": [
    "for links in links_leche:\n",
    "    scrapeando_ando(links)"
   ]
  },
  {
   "cell_type": "code",
   "execution_count": null,
   "metadata": {},
   "outputs": [],
   "source": []
  },
  {
   "cell_type": "code",
   "execution_count": null,
   "metadata": {},
   "outputs": [],
   "source": []
  },
  {
   "cell_type": "code",
   "execution_count": null,
   "metadata": {},
   "outputs": [],
   "source": []
  },
  {
   "cell_type": "code",
   "execution_count": null,
   "metadata": {},
   "outputs": [],
   "source": []
  },
  {
   "cell_type": "markdown",
   "metadata": {},
   "source": [
    "Formalizaremos la función del paso 1 una vez verificada que la mayoría de sub-divs tienen la misma estructura:"
   ]
  },
  {
   "cell_type": "code",
   "execution_count": null,
   "metadata": {},
   "outputs": [],
   "source": []
  },
  {
   "cell_type": "code",
   "execution_count": null,
   "metadata": {},
   "outputs": [],
   "source": []
  },
  {
   "cell_type": "code",
   "execution_count": null,
   "metadata": {},
   "outputs": [],
   "source": []
  },
  {
   "cell_type": "code",
   "execution_count": null,
   "metadata": {},
   "outputs": [],
   "source": []
  },
  {
   "cell_type": "code",
   "execution_count": null,
   "metadata": {},
   "outputs": [],
   "source": []
  },
  {
   "cell_type": "markdown",
   "metadata": {},
   "source": [
    "Entraremos a cada link y aplicaremos la función:"
   ]
  },
  {
   "cell_type": "code",
   "execution_count": 12,
   "metadata": {},
   "outputs": [],
   "source": [
    "list_nombres = []\n",
    "list_precios = []\n",
    "for links in links_leche:\n",
    "    nombre, precio = scrapeando_ando(links)\n",
    "    list_nombres.append(nombre)\n",
    "    list_precios.append(precio)\n",
    "\n",
    "#Para convertir a JSON, instalando pandas.\n",
    "import pandas as pd\n",
    "\n",
    "data = {'Producto': list_nombres, \n",
    "        'Price': list_precios}\n",
    "\n",
    "df = pd.DataFrame(data)\n",
    "df['Supermercado'] = 'Metro'\n",
    "df['Precio_float'] = df.Price.str.extract('(\\d+\\.\\d+)')\n",
    "\n",
    "export = df.to_json('export_dataframe.json')"
   ]
  },
  {
   "cell_type": "code",
   "execution_count": 15,
   "metadata": {},
   "outputs": [
    {
     "data": {
      "text/html": [
       "<div>\n",
       "<style scoped>\n",
       "    .dataframe tbody tr th:only-of-type {\n",
       "        vertical-align: middle;\n",
       "    }\n",
       "\n",
       "    .dataframe tbody tr th {\n",
       "        vertical-align: top;\n",
       "    }\n",
       "\n",
       "    .dataframe thead th {\n",
       "        text-align: right;\n",
       "    }\n",
       "</style>\n",
       "<table border=\"1\" class=\"dataframe\">\n",
       "  <thead>\n",
       "    <tr style=\"text-align: right;\">\n",
       "      <th></th>\n",
       "      <th>Producto</th>\n",
       "      <th>Price</th>\n",
       "      <th>Supermercado</th>\n",
       "      <th>Precio_float</th>\n",
       "    </tr>\n",
       "  </thead>\n",
       "  <tbody>\n",
       "    <tr>\n",
       "      <th>0</th>\n",
       "      <td>Leche Evaporada Gloria Azul Pack 6 Unid x 400 g</td>\n",
       "      <td>S/. 19.20</td>\n",
       "      <td>Metro</td>\n",
       "      <td>19.20</td>\n",
       "    </tr>\n",
       "    <tr>\n",
       "      <th>1</th>\n",
       "      <td>Mezcla Láctea Bonlé 0 Lactosa Tetrapack Sixpac...</td>\n",
       "      <td>S/. 18.00</td>\n",
       "      <td>Metro</td>\n",
       "      <td>18.00</td>\n",
       "    </tr>\n",
       "    <tr>\n",
       "      <th>2</th>\n",
       "      <td>Mezcla Lactea Familiar Bonlé TetraPack Sixpack...</td>\n",
       "      <td>S/. 16.80</td>\n",
       "      <td>Metro</td>\n",
       "      <td>16.80</td>\n",
       "    </tr>\n",
       "    <tr>\n",
       "      <th>3</th>\n",
       "      <td>Queso Edam Metro x kg</td>\n",
       "      <td>S/. 32.90</td>\n",
       "      <td>Metro</td>\n",
       "      <td>32.90</td>\n",
       "    </tr>\n",
       "    <tr>\n",
       "      <th>4</th>\n",
       "      <td>Leche Entera UHT Gloria Tripack 1 Litro c/u</td>\n",
       "      <td>S/. 12.90</td>\n",
       "      <td>Metro</td>\n",
       "      <td>12.90</td>\n",
       "    </tr>\n",
       "    <tr>\n",
       "      <th>5</th>\n",
       "      <td>Bebida Chocolatada La Preferida Bolsa 800 ml</td>\n",
       "      <td>S/. 1.99</td>\n",
       "      <td>Metro</td>\n",
       "      <td>1.99</td>\n",
       "    </tr>\n",
       "    <tr>\n",
       "      <th>6</th>\n",
       "      <td>Leche Entera UHT Laive Bolsa 900 ml</td>\n",
       "      <td>S/. 3.45</td>\n",
       "      <td>Metro</td>\n",
       "      <td>3.45</td>\n",
       "    </tr>\n",
       "    <tr>\n",
       "      <th>7</th>\n",
       "      <td>Leche Evaporada Gloria Light Pack 6 Unid x 400 g</td>\n",
       "      <td>S/. 21.60</td>\n",
       "      <td>Metro</td>\n",
       "      <td>21.60</td>\n",
       "    </tr>\n",
       "    <tr>\n",
       "      <th>8</th>\n",
       "      <td>Mezcla Láctea Laive Entera 6 Unid x 500 g</td>\n",
       "      <td>S/. 13.99</td>\n",
       "      <td>Metro</td>\n",
       "      <td>13.99</td>\n",
       "    </tr>\n",
       "    <tr>\n",
       "      <th>9</th>\n",
       "      <td>Leche Evaporada Gloria sin Lactosa Pack 6 Unid...</td>\n",
       "      <td>S/. 18.99</td>\n",
       "      <td>Metro</td>\n",
       "      <td>18.99</td>\n",
       "    </tr>\n",
       "    <tr>\n",
       "      <th>10</th>\n",
       "      <td>Leche Evaporada Gloria Niños de 1 a 5 años Pac...</td>\n",
       "      <td>S/. 21.55</td>\n",
       "      <td>Metro</td>\n",
       "      <td>21.55</td>\n",
       "    </tr>\n",
       "    <tr>\n",
       "      <th>11</th>\n",
       "      <td>Yogurt Bebible Gloria Vainilla Francesa Galone...</td>\n",
       "      <td>S/. 9.79</td>\n",
       "      <td>Metro</td>\n",
       "      <td>9.79</td>\n",
       "    </tr>\n",
       "    <tr>\n",
       "      <th>12</th>\n",
       "      <td>Yogurt Bebible Gloria Fresa Galonera 2 Kg</td>\n",
       "      <td>S/. 9.79</td>\n",
       "      <td>Metro</td>\n",
       "      <td>9.79</td>\n",
       "    </tr>\n",
       "    <tr>\n",
       "      <th>13</th>\n",
       "      <td>Mantequilla Gloria Con Sal Pote 400 g</td>\n",
       "      <td>S/. 11.99</td>\n",
       "      <td>Metro</td>\n",
       "      <td>11.99</td>\n",
       "    </tr>\n",
       "    <tr>\n",
       "      <th>14</th>\n",
       "      <td>Mantequilla Gloria Con Sal Barra 200 g</td>\n",
       "      <td>S/. 6.99</td>\n",
       "      <td>Metro</td>\n",
       "      <td>6.99</td>\n",
       "    </tr>\n",
       "    <tr>\n",
       "      <th>15</th>\n",
       "      <td>Queso Parmesano Rallado Laive Sobre 35 g</td>\n",
       "      <td>S/. 3.29</td>\n",
       "      <td>Metro</td>\n",
       "      <td>3.29</td>\n",
       "    </tr>\n",
       "    <tr>\n",
       "      <th>16</th>\n",
       "      <td>Queso Edam Braedt en Tajadas Paquete 200 g</td>\n",
       "      <td>S/. 8.29</td>\n",
       "      <td>Metro</td>\n",
       "      <td>8.29</td>\n",
       "    </tr>\n",
       "    <tr>\n",
       "      <th>17</th>\n",
       "      <td>Leche UHT Light Semidescremada Monteagle Caja ...</td>\n",
       "      <td>S/. 3.40</td>\n",
       "      <td>Metro</td>\n",
       "      <td>3.40</td>\n",
       "    </tr>\n",
       "  </tbody>\n",
       "</table>\n",
       "</div>"
      ],
      "text/plain": [
       "                                             Producto      Price Supermercado  \\\n",
       "0     Leche Evaporada Gloria Azul Pack 6 Unid x 400 g  S/. 19.20        Metro   \n",
       "1   Mezcla Láctea Bonlé 0 Lactosa Tetrapack Sixpac...  S/. 18.00        Metro   \n",
       "2   Mezcla Lactea Familiar Bonlé TetraPack Sixpack...  S/. 16.80        Metro   \n",
       "3                               Queso Edam Metro x kg  S/. 32.90        Metro   \n",
       "4         Leche Entera UHT Gloria Tripack 1 Litro c/u  S/. 12.90        Metro   \n",
       "5        Bebida Chocolatada La Preferida Bolsa 800 ml   S/. 1.99        Metro   \n",
       "6                 Leche Entera UHT Laive Bolsa 900 ml   S/. 3.45        Metro   \n",
       "7    Leche Evaporada Gloria Light Pack 6 Unid x 400 g  S/. 21.60        Metro   \n",
       "8           Mezcla Láctea Laive Entera 6 Unid x 500 g  S/. 13.99        Metro   \n",
       "9   Leche Evaporada Gloria sin Lactosa Pack 6 Unid...  S/. 18.99        Metro   \n",
       "10  Leche Evaporada Gloria Niños de 1 a 5 años Pac...  S/. 21.55        Metro   \n",
       "11  Yogurt Bebible Gloria Vainilla Francesa Galone...   S/. 9.79        Metro   \n",
       "12          Yogurt Bebible Gloria Fresa Galonera 2 Kg   S/. 9.79        Metro   \n",
       "13              Mantequilla Gloria Con Sal Pote 400 g  S/. 11.99        Metro   \n",
       "14             Mantequilla Gloria Con Sal Barra 200 g   S/. 6.99        Metro   \n",
       "15           Queso Parmesano Rallado Laive Sobre 35 g   S/. 3.29        Metro   \n",
       "16         Queso Edam Braedt en Tajadas Paquete 200 g   S/. 8.29        Metro   \n",
       "17  Leche UHT Light Semidescremada Monteagle Caja ...   S/. 3.40        Metro   \n",
       "\n",
       "   Precio_float  \n",
       "0         19.20  \n",
       "1         18.00  \n",
       "2         16.80  \n",
       "3         32.90  \n",
       "4         12.90  \n",
       "5          1.99  \n",
       "6          3.45  \n",
       "7         21.60  \n",
       "8         13.99  \n",
       "9         18.99  \n",
       "10        21.55  \n",
       "11         9.79  \n",
       "12         9.79  \n",
       "13        11.99  \n",
       "14         6.99  \n",
       "15         3.29  \n",
       "16         8.29  \n",
       "17         3.40  "
      ]
     },
     "execution_count": 15,
     "metadata": {},
     "output_type": "execute_result"
    }
   ],
   "source": [
    "df"
   ]
  },
  {
   "cell_type": "code",
   "execution_count": null,
   "metadata": {},
   "outputs": [],
   "source": []
  },
  {
   "cell_type": "code",
   "execution_count": null,
   "metadata": {},
   "outputs": [],
   "source": []
  },
  {
   "cell_type": "markdown",
   "metadata": {},
   "source": [
    "Transformaremos la data a un DataFrame, CSV, excel o a la mejor forma de poder meterlo a MySQL."
   ]
  },
  {
   "cell_type": "code",
   "execution_count": null,
   "metadata": {},
   "outputs": [],
   "source": []
  }
 ],
 "metadata": {
  "kernelspec": {
   "display_name": "Python 3",
   "language": "python",
   "name": "python3"
  },
  "language_info": {
   "codemirror_mode": {
    "name": "ipython",
    "version": 3
   },
   "file_extension": ".py",
   "mimetype": "text/x-python",
   "name": "python",
   "nbconvert_exporter": "python",
   "pygments_lexer": "ipython3",
   "version": "3.7.1"
  }
 },
 "nbformat": 4,
 "nbformat_minor": 2
}
